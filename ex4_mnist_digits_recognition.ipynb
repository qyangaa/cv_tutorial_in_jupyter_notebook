{
 "cells": [
  {
   "cell_type": "code",
   "execution_count": 1,
   "metadata": {},
   "outputs": [],
   "source": [
    "import torch\n",
    "from torch import nn\n",
    "import torchvision\n",
    "from torchvision import datasets, transforms"
   ]
  },
  {
   "cell_type": "markdown",
   "metadata": {},
   "source": [
    "# Load data"
   ]
  },
  {
   "cell_type": "code",
   "execution_count": 2,
   "metadata": {},
   "outputs": [
    {
     "name": "stdout",
     "output_type": "stream",
     "text": [
      "Downloading http://yann.lecun.com/exdb/mnist/train-images-idx3-ubyte.gz to ./data/mnist/MNIST/raw/train-images-idx3-ubyte.gz\n"
     ]
    },
    {
     "data": {
      "application/vnd.jupyter.widget-view+json": {
       "model_id": "24ce9c664bda410d9d99741a62103127",
       "version_major": 2,
       "version_minor": 0
      },
      "text/plain": [
       "HBox(children=(FloatProgress(value=1.0, bar_style='info', max=1.0), HTML(value='')))"
      ]
     },
     "metadata": {},
     "output_type": "display_data"
    },
    {
     "name": "stdout",
     "output_type": "stream",
     "text": [
      "Extracting ./data/mnist/MNIST/raw/train-images-idx3-ubyte.gz to ./data/mnist/MNIST/raw\n",
      "Downloading http://yann.lecun.com/exdb/mnist/train-labels-idx1-ubyte.gz to ./data/mnist/MNIST/raw/train-labels-idx1-ubyte.gz\n"
     ]
    },
    {
     "data": {
      "application/vnd.jupyter.widget-view+json": {
       "model_id": "07b7a4f2615043e7b931c740500f0ab3",
       "version_major": 2,
       "version_minor": 0
      },
      "text/plain": [
       "HBox(children=(FloatProgress(value=1.0, bar_style='info', max=1.0), HTML(value='')))"
      ]
     },
     "metadata": {},
     "output_type": "display_data"
    },
    {
     "name": "stdout",
     "output_type": "stream",
     "text": [
      "Extracting ./data/mnist/MNIST/raw/train-labels-idx1-ubyte.gz to ./data/mnist/MNIST/raw\n",
      "Downloading http://yann.lecun.com/exdb/mnist/t10k-images-idx3-ubyte.gz to ./data/mnist/MNIST/raw/t10k-images-idx3-ubyte.gz\n"
     ]
    },
    {
     "data": {
      "application/vnd.jupyter.widget-view+json": {
       "model_id": "09fb8f43d96549e08c10b7876b4e1937",
       "version_major": 2,
       "version_minor": 0
      },
      "text/plain": [
       "HBox(children=(FloatProgress(value=1.0, bar_style='info', max=1.0), HTML(value='')))"
      ]
     },
     "metadata": {},
     "output_type": "display_data"
    },
    {
     "name": "stdout",
     "output_type": "stream",
     "text": [
      "\n",
      "Extracting ./data/mnist/MNIST/raw/t10k-images-idx3-ubyte.gz to ./data/mnist/MNIST/raw\n",
      "Downloading http://yann.lecun.com/exdb/mnist/t10k-labels-idx1-ubyte.gz to ./data/mnist/MNIST/raw/t10k-labels-idx1-ubyte.gz\n"
     ]
    },
    {
     "data": {
      "application/vnd.jupyter.widget-view+json": {
       "model_id": "38ba268338d2430d958bb9af93ec8057",
       "version_major": 2,
       "version_minor": 0
      },
      "text/plain": [
       "HBox(children=(FloatProgress(value=1.0, bar_style='info', max=1.0), HTML(value='')))"
      ]
     },
     "metadata": {},
     "output_type": "display_data"
    },
    {
     "name": "stdout",
     "output_type": "stream",
     "text": [
      "Extracting ./data/mnist/MNIST/raw/t10k-labels-idx1-ubyte.gz to ./data/mnist/MNIST/raw\n",
      "Processing...\n",
      "Done!\n"
     ]
    },
    {
     "name": "stderr",
     "output_type": "stream",
     "text": [
      "../torch/csrc/utils/tensor_numpy.cpp:141: UserWarning: The given NumPy array is not writeable, and PyTorch does not support non-writeable tensors. This means you can write to the underlying (supposedly non-writeable) NumPy array using the tensor. You may want to copy the array to protect its data or make it writeable before converting it to a tensor. This type of warning will be suppressed for the rest of this program.\n"
     ]
    }
   ],
   "source": [
    "batch_size = 32\n",
    "train_transforms = transforms.Compose([transforms.ToTensor(),\n",
    "                                 transforms.Normalize([0.131],[0.308])])\n",
    "test_transforms = transforms.Compose([transforms.ToTensor(),\n",
    "                                 transforms.Normalize([0.131],[0.308])])\n",
    "train_data = datasets.MNIST('./data/mnist',\n",
    "                           train = True,\n",
    "                           transform = train_transforms,\n",
    "                           download=True)\n",
    "test_data = datasets.MNIST('./data/mnist',\n",
    "                          train = False,\n",
    "                          transform = test_transforms,\n",
    "                          download=True)\n",
    "\n",
    "train_loader = torch.utils.data.DataLoader(train_data,\n",
    "                                          batch_size = batch_size,\n",
    "                                          shuffle = True)\n",
    "\n",
    "#no need to shuffle for tests\n",
    "test_loader = torch.utils.data.DataLoader(train_data,\n",
    "                                          batch_size = batch_size,\n",
    "                                          shuffle = False)\n"
   ]
  },
  {
   "cell_type": "markdown",
   "metadata": {},
   "source": [
    "# Data exploration"
   ]
  },
  {
   "cell_type": "code",
   "execution_count": 8,
   "metadata": {},
   "outputs": [
    {
     "name": "stdout",
     "output_type": "stream",
     "text": [
      "torch.Size([32, 1, 28, 28]) torch.Size([32])\n"
     ]
    },
    {
     "data": {
      "text/plain": [
       "tensor([[[-0.4253, -0.4253, -0.4253, -0.4253, -0.4253, -0.4253, -0.4253,\n",
       "          -0.4253, -0.4253, -0.4253, -0.4253, -0.4253, -0.4253, -0.4253,\n",
       "          -0.4253, -0.4253, -0.4253, -0.4253, -0.4253, -0.4253, -0.4253,\n",
       "          -0.4253, -0.4253, -0.4253, -0.4253, -0.4253, -0.4253, -0.4253],\n",
       "         [-0.4253, -0.4253, -0.4253, -0.4253, -0.4253, -0.4253, -0.4253,\n",
       "          -0.4253, -0.4253, -0.4253, -0.4253, -0.4253, -0.4253, -0.4253,\n",
       "          -0.4253, -0.4253, -0.4253, -0.4253, -0.4253, -0.4253, -0.4253,\n",
       "          -0.4253, -0.4253, -0.4253, -0.4253, -0.4253, -0.4253, -0.4253],\n",
       "         [-0.4253, -0.4253, -0.4253, -0.4253, -0.4253, -0.4253, -0.4253,\n",
       "          -0.4253, -0.4253, -0.4253, -0.4253, -0.4253, -0.4253, -0.4253,\n",
       "          -0.4253, -0.4253, -0.4253, -0.4253, -0.4253, -0.4253, -0.4253,\n",
       "          -0.4253, -0.4253, -0.4253, -0.4253, -0.4253, -0.4253, -0.4253],\n",
       "         [-0.4253, -0.4253, -0.4253, -0.4253, -0.4253, -0.4253, -0.4253,\n",
       "          -0.4253, -0.4253, -0.4253, -0.4253, -0.4253, -0.4253, -0.4253,\n",
       "          -0.4253, -0.4253, -0.4253, -0.4253, -0.4253, -0.4253, -0.4253,\n",
       "          -0.4253, -0.4253, -0.4253, -0.4253, -0.4253, -0.4253, -0.4253],\n",
       "         [-0.4253, -0.4253, -0.4253, -0.4253, -0.4253, -0.4253, -0.4253,\n",
       "          -0.4253, -0.4253, -0.4253, -0.4253, -0.4253, -0.4253, -0.4253,\n",
       "          -0.4253, -0.4253, -0.4253, -0.4253, -0.4253, -0.4253, -0.4253,\n",
       "          -0.4253, -0.4253, -0.4253, -0.4253, -0.4253, -0.4253, -0.4253],\n",
       "         [-0.4253, -0.4253, -0.4253, -0.4253, -0.4253, -0.4253, -0.4253,\n",
       "          -0.4253, -0.4253, -0.4253, -0.4253, -0.4253, -0.4253, -0.4253,\n",
       "          -0.4253, -0.4253, -0.4253, -0.4253, -0.4253, -0.4253, -0.4253,\n",
       "          -0.4253, -0.4253, -0.4253, -0.4253, -0.4253, -0.4253, -0.4253],\n",
       "         [-0.4253, -0.4253, -0.4253, -0.4253, -0.4253, -0.4253, -0.4253,\n",
       "          -0.4253, -0.4253, -0.4253, -0.4253, -0.4253, -0.4253, -0.4253,\n",
       "          -0.4253, -0.4253, -0.4253, -0.4253, -0.4253, -0.4253, -0.4253,\n",
       "          -0.4253, -0.4253, -0.4253, -0.4253, -0.4253, -0.4253, -0.4253],\n",
       "         [-0.4253, -0.4253, -0.4253, -0.4253,  1.1026,  1.6755,  1.3699,\n",
       "           1.3699,  1.3699,  2.0066,  1.3699,  1.3699,  1.6882,  2.7960,\n",
       "           1.5227,  1.3699,  0.4150, -0.3362, -0.4253, -0.4253, -0.4253,\n",
       "          -0.4253, -0.4253, -0.4253, -0.4253, -0.4253, -0.4253, -0.4253],\n",
       "         [-0.4253, -0.4253, -0.4253, -0.4253,  0.6187,  2.6304,  2.7832,\n",
       "           2.7960,  2.7832,  2.7832,  2.7832,  2.7960,  2.7832,  2.7832,\n",
       "           2.7832,  2.7960,  2.7832,  1.9556,  1.7264,  0.9498,  0.1349,\n",
       "          -0.4253, -0.4253, -0.4253, -0.4253, -0.4253, -0.4253, -0.4253],\n",
       "         [-0.4253, -0.4253, -0.4253, -0.4253, -0.4253,  0.6060,  2.6686,\n",
       "           2.7960,  2.5413,  1.7137,  1.7137,  1.7137,  0.7588,  0.7715,\n",
       "           1.7137,  1.7137,  2.4267,  2.7832,  2.7832,  2.7960,  2.6304,\n",
       "           1.2426, -0.4253, -0.4253, -0.4253, -0.4253, -0.4253, -0.4253],\n",
       "         [-0.4253, -0.4253, -0.4253, -0.4253, -0.4253, -0.4253, -0.1070,\n",
       "          -0.0688, -0.1452, -0.4253, -0.4253, -0.4253, -0.4253, -0.4253,\n",
       "          -0.4253, -0.4253, -0.1834, -0.0688,  2.4777,  2.7960,  2.7832,\n",
       "           0.4405, -0.4253, -0.4253, -0.4253, -0.4253, -0.4253, -0.4253],\n",
       "         [-0.4253, -0.4253, -0.4253, -0.4253, -0.4253, -0.4253, -0.4253,\n",
       "          -0.4253, -0.4253, -0.4253, -0.4253, -0.4253, -0.4253, -0.4253,\n",
       "          -0.4253, -0.4253, -0.4253,  0.6697,  2.7960,  2.8214,  2.0830,\n",
       "          -0.4253, -0.4253, -0.4253, -0.4253, -0.4253, -0.4253, -0.4253],\n",
       "         [-0.4253, -0.4253, -0.4253, -0.4253, -0.4253, -0.4253, -0.4253,\n",
       "          -0.4253, -0.4253, -0.4253, -0.4253, -0.4253, -0.4253, -0.4253,\n",
       "          -0.4253, -0.4253, -0.4253,  0.4150,  2.7068,  2.7960,  1.1153,\n",
       "          -0.4253, -0.4253, -0.4253, -0.4253, -0.4253, -0.4253, -0.4253],\n",
       "         [-0.4253, -0.4253, -0.4253, -0.4253, -0.4253, -0.4253, -0.4253,\n",
       "          -0.4253, -0.4253, -0.4253, -0.4253, -0.4253, -0.4253, -0.4253,\n",
       "          -0.4253, -0.4253, -0.4253,  0.8988,  2.7068,  2.0448, -0.1834,\n",
       "          -0.4253, -0.4253, -0.4253, -0.4253, -0.4253, -0.4253, -0.4253],\n",
       "         [-0.4253, -0.4253, -0.4253, -0.4253, -0.4253, -0.4253, -0.4253,\n",
       "          -0.4253, -0.4253, -0.4253, -0.4253, -0.4253, -0.4253, -0.4253,\n",
       "          -0.4253, -0.4253, -0.0943,  2.4013,  2.7832,  1.0134, -0.4253,\n",
       "          -0.4253, -0.4253, -0.4253, -0.4253, -0.4253, -0.4253, -0.4253],\n",
       "         [-0.4253, -0.4253, -0.4253, -0.4253, -0.4253, -0.4253, -0.4253,\n",
       "          -0.4253, -0.4253, -0.4253, -0.4253, -0.4253, -0.4253, -0.4253,\n",
       "          -0.4253, -0.4253,  0.4659,  2.7960,  2.7960,  0.2240, -0.4253,\n",
       "          -0.4253, -0.4253, -0.4253, -0.4253, -0.4253, -0.4253, -0.4253],\n",
       "         [-0.4253, -0.4253, -0.4253, -0.4253, -0.4253, -0.4253, -0.4253,\n",
       "          -0.4253, -0.4253, -0.4253, -0.4253, -0.4253, -0.4253, -0.4253,\n",
       "          -0.4253, -0.4253,  1.7264,  2.7832,  2.4649, -0.4253, -0.4253,\n",
       "          -0.4253, -0.4253, -0.4253, -0.4253, -0.4253, -0.4253, -0.4253],\n",
       "         [-0.4253, -0.4253, -0.4253, -0.4253, -0.4253, -0.4253, -0.4253,\n",
       "          -0.4253, -0.4253, -0.4253, -0.4253, -0.4253, -0.4253, -0.4253,\n",
       "          -0.4253, -0.1325,  2.5540,  2.7832,  0.2368, -0.4253, -0.4253,\n",
       "          -0.4253, -0.4253, -0.4253, -0.4253, -0.4253, -0.4253, -0.4253],\n",
       "         [-0.4253, -0.4253, -0.4253, -0.4253, -0.4253, -0.4253, -0.4253,\n",
       "          -0.4253, -0.4253, -0.4253, -0.4253, -0.4253, -0.4253, -0.4253,\n",
       "          -0.4253,  1.2044,  2.7832,  2.7832, -0.0688, -0.4253, -0.4253,\n",
       "          -0.4253, -0.4253, -0.4253, -0.4253, -0.4253, -0.4253, -0.4253],\n",
       "         [-0.4253, -0.4253, -0.4253, -0.4253, -0.4253, -0.4253, -0.4253,\n",
       "          -0.4253, -0.4253, -0.4253, -0.4253, -0.4253, -0.4253, -0.4253,\n",
       "          -0.2598,  2.1721,  2.7960,  0.9243, -0.4253, -0.4253, -0.4253,\n",
       "          -0.4253, -0.4253, -0.4253, -0.4253, -0.4253, -0.4253, -0.4253],\n",
       "         [-0.4253, -0.4253, -0.4253, -0.4253, -0.4253, -0.4253, -0.4253,\n",
       "          -0.4253, -0.4253, -0.4253, -0.4253, -0.4253, -0.4253, -0.4253,\n",
       "           1.3317,  2.7960,  2.6304,  0.1222, -0.4253, -0.4253, -0.4253,\n",
       "          -0.4253, -0.4253, -0.4253, -0.4253, -0.4253, -0.4253, -0.4253],\n",
       "         [-0.4253, -0.4253, -0.4253, -0.4253, -0.4253, -0.4253, -0.4253,\n",
       "          -0.4253, -0.4253, -0.4253, -0.4253, -0.4253, -0.4253, -0.0561,\n",
       "           2.5540,  2.7960,  2.0702, -0.4253, -0.4253, -0.4253, -0.4253,\n",
       "          -0.4253, -0.4253, -0.4253, -0.4253, -0.4253, -0.4253, -0.4253],\n",
       "         [-0.4253, -0.4253, -0.4253, -0.4253, -0.4253, -0.4253, -0.4253,\n",
       "          -0.4253, -0.4253, -0.4253, -0.4253, -0.4253, -0.4253,  1.2808,\n",
       "           2.7832,  2.7960,  2.0702, -0.4253, -0.4253, -0.4253, -0.4253,\n",
       "          -0.4253, -0.4253, -0.4253, -0.4253, -0.4253, -0.4253, -0.4253],\n",
       "         [-0.4253, -0.4253, -0.4253, -0.4253, -0.4253, -0.4253, -0.4253,\n",
       "          -0.4253, -0.4253, -0.4253, -0.4253, -0.4253,  0.3004,  2.7960,\n",
       "           2.7960,  2.7705,  0.5296, -0.4253, -0.4253, -0.4253, -0.4253,\n",
       "          -0.4253, -0.4253, -0.4253, -0.4253, -0.4253, -0.4253, -0.4253],\n",
       "         [-0.4253, -0.4253, -0.4253, -0.4253, -0.4253, -0.4253, -0.4253,\n",
       "          -0.4253, -0.4253, -0.4253, -0.4253, -0.4253,  0.6187,  2.7832,\n",
       "           2.7832,  2.1211, -0.4253, -0.4253, -0.4253, -0.4253, -0.4253,\n",
       "          -0.4253, -0.4253, -0.4253, -0.4253, -0.4253, -0.4253, -0.4253],\n",
       "         [-0.4253, -0.4253, -0.4253, -0.4253, -0.4253, -0.4253, -0.4253,\n",
       "          -0.4253, -0.4253, -0.4253, -0.4253, -0.4253,  0.3768,  2.0702,\n",
       "           2.7832,  2.2485,  0.4150, -0.4253, -0.4253, -0.4253, -0.4253,\n",
       "          -0.4253, -0.4253, -0.4253, -0.4253, -0.4253, -0.4253, -0.4253],\n",
       "         [-0.4253, -0.4253, -0.4253, -0.4253, -0.4253, -0.4253, -0.4253,\n",
       "          -0.4253, -0.4253, -0.4253, -0.4253, -0.4253, -0.4253,  0.1731,\n",
       "           2.6304,  2.6432,  0.9625, -0.4253, -0.4253, -0.4253, -0.4253,\n",
       "          -0.4253, -0.4253, -0.4253, -0.4253, -0.4253, -0.4253, -0.4253],\n",
       "         [-0.4253, -0.4253, -0.4253, -0.4253, -0.4253, -0.4253, -0.4253,\n",
       "          -0.4253, -0.4253, -0.4253, -0.4253, -0.4253, -0.4253, -0.4253,\n",
       "          -0.4253, -0.4253, -0.4253, -0.4253, -0.4253, -0.4253, -0.4253,\n",
       "          -0.4253, -0.4253, -0.4253, -0.4253, -0.4253, -0.4253, -0.4253]]])"
      ]
     },
     "execution_count": 8,
     "metadata": {},
     "output_type": "execute_result"
    }
   ],
   "source": [
    "import matplotlib.pyplot as plt\n",
    "import numpy as np\n",
    "%matplotlib inline\n",
    "inputs, labels = next(iter(train_loader))\n",
    "print(inputs.shape, labels.shape)\n",
    "#32 samples per batch, each of 28*28 pixels, with 1 color channel\n",
    "inputs[0]"
   ]
  },
  {
   "cell_type": "code",
   "execution_count": 11,
   "metadata": {},
   "outputs": [
    {
     "data": {
      "image/png": "[encoded data removed]",
      "text/plain": [
       "<Figure size 432x288 with 1 Axes>"
      ]
     },
     "metadata": {
      "needs_background": "light"
     },
     "output_type": "display_data"
    }
   ],
   "source": [
    "def imshow(img):\n",
    "    img = img.numpy().transpose((1,2,0))\n",
    "    img = img*0.308+0.131\n",
    "    img = np.clip(img,0,1)\n",
    "    plt.imshow(img)\n",
    "out = torchvision.utils.make_grid(inputs)\n",
    "imshow(out)"
   ]
  },
  {
   "cell_type": "code",
   "execution_count": null,
   "metadata": {},
   "outputs": [],
   "source": []
  },
  {
   "cell_type": "markdown",
   "metadata": {},
   "source": [
    "# Model"
   ]
  },
  {
   "cell_type": "code",
   "execution_count": 41,
   "metadata": {},
   "outputs": [
    {
     "name": "stdout",
     "output_type": "stream",
     "text": [
      "Linear_classifier(\n",
      "  (network): Sequential(\n",
      "    (0): Linear(in_features=784, out_features=512, bias=True)\n",
      "    (1): ReLU()\n",
      "    (2): Linear(in_features=512, out_features=128, bias=True)\n",
      "    (3): ReLU()\n",
      "    (4): Linear(in_features=128, out_features=10, bias=True)\n",
      "    (5): ReLU()\n",
      "    (6): Softmax(dim=None)\n",
      "  )\n",
      ")\n"
     ]
    }
   ],
   "source": [
    "class Linear_classifier(nn.Module):\n",
    "    def __init__(self,layers=[512,128],input_size = 784,out_channels=10):\n",
    "        super().__init__()\n",
    "        layers = [input_size]+layers\n",
    "        layers.append(out_channels)\n",
    "        L = []\n",
    "        for i in range(1,len(layers)):\n",
    "            L.append(nn.Linear(layers[i-1],layers[i]))\n",
    "            L.append(nn.ReLU())\n",
    "        L.append(nn.Softmax())\n",
    "        self.network = nn.Sequential(*L)\n",
    "    \n",
    "    def forward(self,x):\n",
    "        x = x.view(-1,28*28)\n",
    "        x = self.network(x)\n",
    "        return x\n",
    "\n",
    "\n",
    "    "
   ]
  },
  {
   "cell_type": "markdown",
   "metadata": {},
   "source": [
    "# Training"
   ]
  },
  {
   "cell_type": "code",
   "execution_count": 46,
   "metadata": {},
   "outputs": [],
   "source": [
    "def train(lr=1e-3,epochs=20,mode='SGD'):\n",
    "    device = torch.device('cuda' if torch.cuda.is_available() else 'cpu')\n",
    "    model = Linear_classifier().to(device)\n",
    "    print(model)\n",
    "    print('lr: {}, epochs: {}'.format(lr, epochs))\n",
    "    if mode=='SGD':\n",
    "        optimizer = torch.optim.SGD(model.parameters(),lr = lr)\n",
    "    else:\n",
    "        optimizer = torch.optim.Adam(model.parameters(),lr = lr)\n",
    "    criteria = nn.CrossEntropyLoss()\n",
    "    import time\n",
    "\n",
    "    for i in range(epochs):\n",
    "        start_time = time.time()\n",
    "        running_loss = 0.0\n",
    "        for inputs, labels in train_loader:\n",
    "            optimizer.zero_grad()\n",
    "            outputs = model(inputs)\n",
    "            loss = criteria(outputs,labels)\n",
    "            loss.backward()\n",
    "            optimizer.step()\n",
    "            running_loss = running_loss+loss.item()\n",
    "        running_loss = running_loss/len(train_loader)\n",
    "        cur_time = time.time()\n",
    "        print('Epoch: {}, loss: {}, time: {}'.format(i, running_loss,cur_time-start_time))\n",
    "        start_time = cur_time\n",
    "        \n",
    "    #test\n",
    "    correct = 0\n",
    "    total = 0\n",
    "    with torch.no_grad():\n",
    "        for inputs, labels in train_loader:\n",
    "            outputs = model(inputs)\n",
    "            loss = criteria(outputs,labels)\n",
    "            _, predicted = torch.max(outputs.data,1)\n",
    "            total+=labels.size(0)\n",
    "            correct+=(predicted==labels).sum().item()\n",
    "    accuracy = 100.0*correct/total\n",
    "\n",
    "    print(\"accuracy is {} percentage\".format(accuracy))\n",
    "    return model"
   ]
  },
  {
   "cell_type": "markdown",
   "metadata": {},
   "source": [
    "# Test"
   ]
  },
  {
   "cell_type": "code",
   "execution_count": 47,
   "metadata": {
    "scrolled": true
   },
   "outputs": [
    {
     "name": "stdout",
     "output_type": "stream",
     "text": [
      "Linear_classifier(\n",
      "  (network): Sequential(\n",
      "    (0): Linear(in_features=784, out_features=512, bias=True)\n",
      "    (1): ReLU()\n",
      "    (2): Linear(in_features=512, out_features=128, bias=True)\n",
      "    (3): ReLU()\n",
      "    (4): Linear(in_features=128, out_features=10, bias=True)\n",
      "    (5): ReLU()\n",
      "    (6): Softmax(dim=None)\n",
      "  )\n",
      ")\n",
      "lr: 0.03, epochs: 20\n",
      "Epoch: 0, loss: 1.8653203535715739, time: 24.240259170532227\n",
      "Epoch: 1, loss: 1.7121058294932048, time: 24.04960012435913\n",
      "Epoch: 2, loss: 1.7005050527572632, time: 24.025945901870728\n",
      "Epoch: 3, loss: 1.6929047777811685, time: 24.204917192459106\n",
      "Epoch: 4, loss: 1.6871904738108316, time: 24.40277075767517\n",
      "Epoch: 5, loss: 1.6827733764648438, time: 23.927614212036133\n",
      "Epoch: 6, loss: 1.6789499739329021, time: 23.402230978012085\n",
      "Epoch: 7, loss: 1.6443322028477987, time: 23.324887990951538\n",
      "Epoch: 8, loss: 1.5912256618499756, time: 24.462833166122437\n",
      "Epoch: 9, loss: 1.5860878664016724, time: 24.474854946136475\n",
      "Epoch: 10, loss: 1.5826284267425537, time: 24.25729775428772\n",
      "Epoch: 11, loss: 1.579831836636861, time: 24.43934392929077\n",
      "Epoch: 12, loss: 1.5777186856587728, time: 24.282562017440796\n",
      "Epoch: 13, loss: 1.575645426940918, time: 24.353923082351685\n",
      "Epoch: 14, loss: 1.573247243944804, time: 24.26136302947998\n",
      "Epoch: 15, loss: 1.5668233373006184, time: 24.30819797515869\n",
      "Epoch: 16, loss: 1.563784584935506, time: 24.254648208618164\n",
      "Epoch: 17, loss: 1.5619224407831829, time: 24.27418279647827\n",
      "Epoch: 18, loss: 1.5605236742655437, time: 24.3195161819458\n",
      "Epoch: 19, loss: 1.55921228834788, time: 24.25277590751648\n",
      "accuracy is 89.29666666666667 percentage\n"
     ]
    }
   ],
   "source": [
    "model1 = train(lr=0.03,epochs=20)"
   ]
  },
  {
   "cell_type": "code",
   "execution_count": 48,
   "metadata": {},
   "outputs": [
    {
     "name": "stdout",
     "output_type": "stream",
     "text": [
      "Linear_classifier(\n",
      "  (network): Sequential(\n",
      "    (0): Linear(in_features=784, out_features=512, bias=True)\n",
      "    (1): ReLU()\n",
      "    (2): Linear(in_features=512, out_features=128, bias=True)\n",
      "    (3): ReLU()\n",
      "    (4): Linear(in_features=128, out_features=10, bias=True)\n",
      "    (5): ReLU()\n",
      "    (6): Softmax(dim=None)\n",
      "  )\n",
      ")\n",
      "lr: 0.05, epochs: 20\n",
      "Epoch: 0, loss: 1.9550402484258016, time: 24.40858817100525\n",
      "Epoch: 1, loss: 1.85327001508077, time: 24.220336198806763\n",
      "Epoch: 2, loss: 1.838732870165507, time: 24.288219928741455\n",
      "Epoch: 3, loss: 1.8309776888529459, time: 24.207036018371582\n",
      "Epoch: 4, loss: 1.8257667839050293, time: 24.120702028274536\n",
      "Epoch: 5, loss: 1.8219868227640788, time: 24.206580877304077\n",
      "Epoch: 6, loss: 1.8191900794347127, time: 24.16806697845459\n",
      "Epoch: 7, loss: 1.8169230650583903, time: 24.331862688064575\n",
      "Epoch: 8, loss: 1.8152085454940796, time: 24.128501892089844\n",
      "Epoch: 9, loss: 1.8138571093877156, time: 24.18015480041504\n",
      "Epoch: 10, loss: 1.8126553833007812, time: 24.11116600036621\n",
      "Epoch: 11, loss: 1.8118234336853027, time: 24.138602018356323\n",
      "Epoch: 12, loss: 1.810927623240153, time: 24.178167819976807\n",
      "Epoch: 13, loss: 1.8100264540990194, time: 24.15476083755493\n",
      "Epoch: 14, loss: 1.8094680803934733, time: 24.750940084457397\n",
      "Epoch: 15, loss: 1.808909009552002, time: 24.56411099433899\n",
      "Epoch: 16, loss: 1.808419003168742, time: 24.33816170692444\n",
      "Epoch: 17, loss: 1.8080004588445027, time: 24.542700052261353\n",
      "Epoch: 18, loss: 1.8076393677393596, time: 24.074925184249878\n",
      "Epoch: 19, loss: 1.8073650669733683, time: 24.70185089111328\n",
      "accuracy is 68.33833333333334 percentage\n"
     ]
    }
   ],
   "source": [
    "model2 = train(lr=0.05,epochs=20)"
   ]
  },
  {
   "cell_type": "code",
   "execution_count": 49,
   "metadata": {},
   "outputs": [
    {
     "name": "stdout",
     "output_type": "stream",
     "text": [
      "Linear_classifier(\n",
      "  (network): Sequential(\n",
      "    (0): Linear(in_features=784, out_features=512, bias=True)\n",
      "    (1): ReLU()\n",
      "    (2): Linear(in_features=512, out_features=128, bias=True)\n",
      "    (3): ReLU()\n",
      "    (4): Linear(in_features=128, out_features=10, bias=True)\n",
      "    (5): ReLU()\n",
      "    (6): Softmax(dim=None)\n",
      "  )\n",
      ")\n",
      "lr: 0.01, epochs: 50\n",
      "Epoch: 0, loss: 2.129818073908488, time: 24.080988883972168\n",
      "Epoch: 1, loss: 1.7400812965393067, time: 24.8941650390625\n",
      "Epoch: 2, loss: 1.6670827271779378, time: 24.320021152496338\n",
      "Epoch: 3, loss: 1.6411245574951172, time: 24.07512092590332\n",
      "Epoch: 4, loss: 1.6310888650894164, time: 24.034185886383057\n",
      "Epoch: 5, loss: 1.6244946219762166, time: 24.036355018615723\n",
      "Epoch: 6, loss: 1.6195142652511596, time: 24.098693132400513\n",
      "Epoch: 7, loss: 1.6154249067306519, time: 24.087377071380615\n",
      "Epoch: 8, loss: 1.6116558298746744, time: 24.026623249053955\n",
      "Epoch: 9, loss: 1.6084177863438924, time: 24.03950786590576\n",
      "Epoch: 10, loss: 1.6055069213231405, time: 24.047260761260986\n",
      "Epoch: 11, loss: 1.6028189906438193, time: 24.124579191207886\n",
      "Epoch: 12, loss: 1.6005029698689779, time: 24.037775993347168\n",
      "Epoch: 13, loss: 1.5983643069585165, time: 24.01310682296753\n",
      "Epoch: 14, loss: 1.5964917603174846, time: 24.032498121261597\n",
      "Epoch: 15, loss: 1.5947590896606445, time: 24.02513098716736\n",
      "Epoch: 16, loss: 1.5931226430892944, time: 24.12795114517212\n",
      "Epoch: 17, loss: 1.5916109048843383, time: 24.05271601676941\n",
      "Epoch: 18, loss: 1.5901567092259725, time: 24.063508987426758\n",
      "Epoch: 19, loss: 1.5888247659683228, time: 24.195612907409668\n",
      "Epoch: 20, loss: 1.5876165884653728, time: 24.080713987350464\n",
      "Epoch: 21, loss: 1.5864203458150228, time: 24.144744873046875\n",
      "Epoch: 22, loss: 1.5852547505696615, time: 24.090742826461792\n",
      "Epoch: 23, loss: 1.584233110555013, time: 24.076359033584595\n",
      "Epoch: 24, loss: 1.5832076705296834, time: 24.049517154693604\n",
      "Epoch: 25, loss: 1.5822782171885172, time: 24.04938817024231\n",
      "Epoch: 26, loss: 1.58135567334493, time: 24.15090274810791\n",
      "Epoch: 27, loss: 1.580672452990214, time: 24.02203917503357\n",
      "Epoch: 28, loss: 1.5798677792231242, time: 24.056845903396606\n",
      "Epoch: 29, loss: 1.5790389831542968, time: 23.998090982437134\n",
      "Epoch: 30, loss: 1.57846678536733, time: 24.036945819854736\n",
      "Epoch: 31, loss: 1.577757869529724, time: 24.11064100265503\n",
      "Epoch: 32, loss: 1.577204416211446, time: 24.08041787147522\n",
      "Epoch: 33, loss: 1.5766699955622354, time: 24.049437999725342\n",
      "Epoch: 34, loss: 1.576108709081014, time: 24.071058988571167\n",
      "Epoch: 35, loss: 1.5755958372116088, time: 24.07719588279724\n",
      "Epoch: 36, loss: 1.5751629572550456, time: 24.34847402572632\n",
      "Epoch: 37, loss: 1.5746964686711629, time: 24.086578845977783\n",
      "Epoch: 38, loss: 1.574321648724874, time: 23.33028292655945\n",
      "Epoch: 39, loss: 1.573866577720642, time: 23.2348153591156\n",
      "Epoch: 40, loss: 1.5734696179707846, time: 23.761223793029785\n",
      "Epoch: 41, loss: 1.5730959978103638, time: 23.381640911102295\n",
      "Epoch: 42, loss: 1.5726915952046712, time: 23.28765106201172\n",
      "Epoch: 43, loss: 1.5723644069671632, time: 23.25067973136902\n",
      "Epoch: 44, loss: 1.5720338404973349, time: 23.30796480178833\n",
      "Epoch: 45, loss: 1.5717352633794148, time: 23.243934869766235\n",
      "Epoch: 46, loss: 1.5714073214213053, time: 23.808011054992676\n",
      "Epoch: 47, loss: 1.5710991270701091, time: 24.056615114212036\n",
      "Epoch: 48, loss: 1.5708042559305826, time: 24.06311297416687\n",
      "Epoch: 49, loss: 1.5705430344263713, time: 24.07011604309082\n",
      "accuracy is 89.045 percentage\n"
     ]
    }
   ],
   "source": [
    "model3 = train(lr=0.01,epochs=50)"
   ]
  },
  {
   "cell_type": "code",
   "execution_count": 50,
   "metadata": {},
   "outputs": [
    {
     "name": "stdout",
     "output_type": "stream",
     "text": [
      "Linear_classifier(\n",
      "  (network): Sequential(\n",
      "    (0): Linear(in_features=784, out_features=512, bias=True)\n",
      "    (1): ReLU()\n",
      "    (2): Linear(in_features=512, out_features=128, bias=True)\n",
      "    (3): ReLU()\n",
      "    (4): Linear(in_features=128, out_features=10, bias=True)\n",
      "    (5): ReLU()\n",
      "    (6): Softmax(dim=None)\n",
      "  )\n",
      ")\n",
      "lr: 0.01, epochs: 20\n",
      "Epoch: 0, loss: 2.363519980239868, time: 35.35069227218628\n",
      "Epoch: 1, loss: 2.363634099451701, time: 38.660786867141724\n",
      "Epoch: 2, loss: 2.3636341013590494, time: 38.3831102848053\n",
      "Epoch: 3, loss: 2.363634102757772, time: 38.38648819923401\n",
      "Epoch: 4, loss: 2.3636341040293374, time: 38.41402864456177\n",
      "Epoch: 5, loss: 2.3636341053009033, time: 38.64765691757202\n",
      "Epoch: 6, loss: 2.3636341068267823, time: 38.38868474960327\n",
      "Epoch: 7, loss: 2.363634105173747, time: 38.293275117874146\n",
      "Epoch: 8, loss: 2.363634103393555, time: 37.99690890312195\n",
      "Epoch: 9, loss: 2.363634108479818, time: 38.30868577957153\n",
      "Epoch: 10, loss: 2.3636341086069743, time: 38.563183069229126\n",
      "Epoch: 11, loss: 2.3636341050465903, time: 38.28367495536804\n",
      "Epoch: 12, loss: 2.363634106572469, time: 38.599061727523804\n",
      "Epoch: 13, loss: 2.363634108734131, time: 38.416993141174316\n",
      "Epoch: 14, loss: 2.363634106318156, time: 37.85789108276367\n",
      "Epoch: 15, loss: 2.3636341059366863, time: 36.84247875213623\n",
      "Epoch: 16, loss: 2.3636341064453124, time: 38.0234899520874\n",
      "Epoch: 17, loss: 2.3636341070810953, time: 38.47244596481323\n",
      "Epoch: 18, loss: 2.3636341112772623, time: 38.53123712539673\n",
      "Epoch: 19, loss: 2.363634104537964, time: 38.3549919128418\n",
      "accuracy is 9.751666666666667 percentage\n"
     ]
    }
   ],
   "source": [
    "model4 = train(lr=0.01,epochs=20,mode='Adam')"
   ]
  },
  {
   "cell_type": "code",
   "execution_count": 51,
   "metadata": {},
   "outputs": [
    {
     "name": "stdout",
     "output_type": "stream",
     "text": [
      "Linear_classifier(\n",
      "  (network): Sequential(\n",
      "    (0): Linear(in_features=784, out_features=512, bias=True)\n",
      "    (1): ReLU()\n",
      "    (2): Linear(in_features=512, out_features=128, bias=True)\n",
      "    (3): ReLU()\n",
      "    (4): Linear(in_features=128, out_features=10, bias=True)\n",
      "    (5): ReLU()\n",
      "    (6): Softmax(dim=None)\n",
      "  )\n",
      ")\n",
      "lr: 0.001, epochs: 20\n",
      "Epoch: 0, loss: 1.596229276974996, time: 29.52825117111206\n",
      "Epoch: 1, loss: 1.513808993212382, time: 30.539342880249023\n",
      "Epoch: 2, loss: 1.5034395808537802, time: 31.73619294166565\n",
      "Epoch: 3, loss: 1.5025473094940185, time: 32.89376187324524\n",
      "Epoch: 4, loss: 1.4989228372573853, time: 33.86837577819824\n",
      "Epoch: 5, loss: 1.500059866841634, time: 34.27565813064575\n",
      "Epoch: 6, loss: 1.4964721212387084, time: 35.40650820732117\n",
      "Epoch: 7, loss: 1.4984564292907714, time: 35.563862800598145\n",
      "Epoch: 8, loss: 1.493804841931661, time: 35.99980068206787\n",
      "Epoch: 9, loss: 1.4947130980809529, time: 35.73797297477722\n",
      "Epoch: 10, loss: 1.4957053396224975, time: 35.02749800682068\n",
      "Epoch: 11, loss: 1.4990937310536703, time: 34.7343270778656\n",
      "Epoch: 12, loss: 1.496659952354431, time: 34.74005675315857\n",
      "Epoch: 13, loss: 1.4935693226496378, time: 34.355056047439575\n",
      "Epoch: 14, loss: 1.4921105810801187, time: 34.19899582862854\n",
      "Epoch: 15, loss: 1.4946571371714275, time: 34.1012020111084\n",
      "Epoch: 16, loss: 1.4958946170806884, time: 34.05534267425537\n",
      "Epoch: 17, loss: 1.4953842925389609, time: 33.84981083869934\n",
      "Epoch: 18, loss: 1.4945051233927409, time: 33.45101284980774\n",
      "Epoch: 19, loss: 1.4963880776087444, time: 33.6051549911499\n",
      "accuracy is 96.93 percentage\n"
     ]
    }
   ],
   "source": [
    "model4 = train(lr=0.001,epochs=20,mode='Adam')"
   ]
  },
  {
   "cell_type": "code",
   "execution_count": 52,
   "metadata": {},
   "outputs": [
    {
     "name": "stdout",
     "output_type": "stream",
     "text": [
      "Linear_classifier(\n",
      "  (network): Sequential(\n",
      "    (0): Linear(in_features=784, out_features=512, bias=True)\n",
      "    (1): ReLU()\n",
      "    (2): Linear(in_features=512, out_features=128, bias=True)\n",
      "    (3): ReLU()\n",
      "    (4): Linear(in_features=128, out_features=10, bias=True)\n",
      "    (5): ReLU()\n",
      "    (6): Softmax(dim=None)\n",
      "  )\n",
      ")\n",
      "lr: 0.001, epochs: 5\n",
      "Epoch: 0, loss: 1.6744712434132893, time: 29.775541067123413\n",
      "Epoch: 1, loss: 1.5162453948338825, time: 30.73548913002014\n",
      "Epoch: 2, loss: 1.5054007658640545, time: 31.64878487586975\n",
      "Epoch: 3, loss: 1.5018550045013428, time: 33.25916504859924\n",
      "Epoch: 4, loss: 1.500238242594401, time: 34.56008005142212\n",
      "accuracy is 96.57333333333334 percentage\n"
     ]
    }
   ],
   "source": [
    "model4 = train(lr=0.001,epochs=5,mode='Adam')"
   ]
  },
  {
   "cell_type": "code",
   "execution_count": null,
   "metadata": {},
   "outputs": [],
   "source": []
  }
 ],
 "metadata": {
  "kernelspec": {
   "display_name": "Python 3",
   "language": "python",
   "name": "python3"
  },
  "language_info": {
   "codemirror_mode": {
    "name": "ipython",
    "version": 3
   },
   "file_extension": ".py",
   "mimetype": "text/x-python",
   "name": "python",
   "nbconvert_exporter": "python",
   "pygments_lexer": "ipython3",
   "version": "3.7.6"
  }
 },
 "nbformat": 4,
 "nbformat_minor": 4
}
