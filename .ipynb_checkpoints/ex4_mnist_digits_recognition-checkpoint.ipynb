{
 "cells": [
  {
   "cell_type": "code",
   "execution_count": 1,
   "metadata": {},
   "outputs": [],
   "source": [
    "import torch\n",
    "from torch import nn\n",
    "import torchvision\n",
    "from torchvision import datasets, transforms"
   ]
  },
  {
   "cell_type": "markdown",
   "metadata": {},
   "source": [
    "# Load data"
   ]
  },
  {
   "cell_type": "code",
   "execution_count": 2,
   "metadata": {},
   "outputs": [
    {
     "name": "stdout",
     "output_type": "stream",
     "text": [
      "Downloading http://yann.lecun.com/exdb/mnist/train-images-idx3-ubyte.gz to ./data/mnist/MNIST/raw/train-images-idx3-ubyte.gz\n"
     ]
    },
    {
     "data": {
      "application/vnd.jupyter.widget-view+json": {
       "model_id": "24ce9c664bda410d9d99741a62103127",
       "version_major": 2,
       "version_minor": 0
      },
      "text/plain": [
       "HBox(children=(FloatProgress(value=1.0, bar_style='info', max=1.0), HTML(value='')))"
      ]
     },
     "metadata": {},
     "output_type": "display_data"
    },
    {
     "name": "stdout",
     "output_type": "stream",
     "text": [
      "Extracting ./data/mnist/MNIST/raw/train-images-idx3-ubyte.gz to ./data/mnist/MNIST/raw\n",
      "Downloading http://yann.lecun.com/exdb/mnist/train-labels-idx1-ubyte.gz to ./data/mnist/MNIST/raw/train-labels-idx1-ubyte.gz\n"
     ]
    },
    {
     "data": {
      "application/vnd.jupyter.widget-view+json": {
       "model_id": "07b7a4f2615043e7b931c740500f0ab3",
       "version_major": 2,
       "version_minor": 0
      },
      "text/plain": [
       "HBox(children=(FloatProgress(value=1.0, bar_style='info', max=1.0), HTML(value='')))"
      ]
     },
     "metadata": {},
     "output_type": "display_data"
    },
    {
     "name": "stdout",
     "output_type": "stream",
     "text": [
      "Extracting ./data/mnist/MNIST/raw/train-labels-idx1-ubyte.gz to ./data/mnist/MNIST/raw\n",
      "Downloading http://yann.lecun.com/exdb/mnist/t10k-images-idx3-ubyte.gz to ./data/mnist/MNIST/raw/t10k-images-idx3-ubyte.gz\n"
     ]
    },
    {
     "data": {
      "application/vnd.jupyter.widget-view+json": {
       "model_id": "09fb8f43d96549e08c10b7876b4e1937",
       "version_major": 2,
       "version_minor": 0
      },
      "text/plain": [
       "HBox(children=(FloatProgress(value=1.0, bar_style='info', max=1.0), HTML(value='')))"
      ]
     },
     "metadata": {},
     "output_type": "display_data"
    },
    {
     "name": "stdout",
     "output_type": "stream",
     "text": [
      "\n",
      "Extracting ./data/mnist/MNIST/raw/t10k-images-idx3-ubyte.gz to ./data/mnist/MNIST/raw\n",
      "Downloading http://yann.lecun.com/exdb/mnist/t10k-labels-idx1-ubyte.gz to ./data/mnist/MNIST/raw/t10k-labels-idx1-ubyte.gz\n"
     ]
    },
    {
     "data": {
      "application/vnd.jupyter.widget-view+json": {
       "model_id": "38ba268338d2430d958bb9af93ec8057",
       "version_major": 2,
       "version_minor": 0
      },
      "text/plain": [
       "HBox(children=(FloatProgress(value=1.0, bar_style='info', max=1.0), HTML(value='')))"
      ]
     },
     "metadata": {},
     "output_type": "display_data"
    },
    {
     "name": "stdout",
     "output_type": "stream",
     "text": [
      "Extracting ./data/mnist/MNIST/raw/t10k-labels-idx1-ubyte.gz to ./data/mnist/MNIST/raw\n",
      "Processing...\n",
      "Done!\n"
     ]
    },
    {
     "name": "stderr",
     "output_type": "stream",
     "text": [
      "../torch/csrc/utils/tensor_numpy.cpp:141: UserWarning: The given NumPy array is not writeable, and PyTorch does not support non-writeable tensors. This means you can write to the underlying (supposedly non-writeable) NumPy array using the tensor. You may want to copy the array to protect its data or make it writeable before converting it to a tensor. This type of warning will be suppressed for the rest of this program.\n"
     ]
    }
   ],
   "source": [
    "batch_size = 32\n",
    "train_transforms = transforms.Compose([transforms.ToTensor(),\n",
    "                                 transforms.Normalize([0.131],[0.308])])\n",
    "test_transforms = transforms.Compose([transforms.ToTensor(),\n",
    "                                 transforms.Normalize([0.131],[0.308])])\n",
    "train_data = datasets.MNIST('./data/mnist',\n",
    "                           train = True,\n",
    "                           transform = train_transforms,\n",
    "                           download=True)\n",
    "test_data = datasets.MNIST('./data/mnist',\n",
    "                          train = False,\n",
    "                          transform = test_transforms,\n",
    "                          download=True)\n",
    "\n",
    "train_loader = torch.utils.data.DataLoader(train_data,\n",
    "                                          batch_size = batch_size,\n",
    "                                          shuffle = True)\n",
    "\n",
    "#no need to shuffle for tests\n",
    "test_loader = torch.utils.data.DataLoader(train_data,\n",
    "                                          batch_size = batch_size,\n",
    "                                          shuffle = False)\n"
   ]
  },
  {
   "cell_type": "markdown",
   "metadata": {},
   "source": [
    "# Data exploration"
   ]
  },
  {
   "cell_type": "code",
   "execution_count": 8,
   "metadata": {},
   "outputs": [
    {
     "name": "stdout",
     "output_type": "stream",
     "text": [
      "torch.Size([32, 1, 28, 28]) torch.Size([32])\n"
     ]
    },
    {
     "data": {
      "text/plain": [
       "tensor([[[-0.4253, -0.4253, -0.4253, -0.4253, -0.4253, -0.4253, -0.4253,\n",
       "          -0.4253, -0.4253, -0.4253, -0.4253, -0.4253, -0.4253, -0.4253,\n",
       "          -0.4253, -0.4253, -0.4253, -0.4253, -0.4253, -0.4253, -0.4253,\n",
       "          -0.4253, -0.4253, -0.4253, -0.4253, -0.4253, -0.4253, -0.4253],\n",
       "         [-0.4253, -0.4253, -0.4253, -0.4253, -0.4253, -0.4253, -0.4253,\n",
       "          -0.4253, -0.4253, -0.4253, -0.4253, -0.4253, -0.4253, -0.4253,\n",
       "          -0.4253, -0.4253, -0.4253, -0.4253, -0.4253, -0.4253, -0.4253,\n",
       "          -0.4253, -0.4253, -0.4253, -0.4253, -0.4253, -0.4253, -0.4253],\n",
       "         [-0.4253, -0.4253, -0.4253, -0.4253, -0.4253, -0.4253, -0.4253,\n",
       "          -0.4253, -0.4253, -0.4253, -0.4253, -0.4253, -0.4253, -0.4253,\n",
       "          -0.4253, -0.4253, -0.4253, -0.4253, -0.4253, -0.4253, -0.4253,\n",
       "          -0.4253, -0.4253, -0.4253, -0.4253, -0.4253, -0.4253, -0.4253],\n",
       "         [-0.4253, -0.4253, -0.4253, -0.4253, -0.4253, -0.4253, -0.4253,\n",
       "          -0.4253, -0.4253, -0.4253, -0.4253, -0.4253, -0.4253, -0.4253,\n",
       "          -0.4253, -0.4253, -0.4253, -0.4253, -0.4253, -0.4253, -0.4253,\n",
       "          -0.4253, -0.4253, -0.4253, -0.4253, -0.4253, -0.4253, -0.4253],\n",
       "         [-0.4253, -0.4253, -0.4253, -0.4253, -0.4253, -0.4253, -0.4253,\n",
       "          -0.4253, -0.4253, -0.4253, -0.4253, -0.4253, -0.4253, -0.4253,\n",
       "          -0.4253, -0.4253, -0.4253, -0.4253, -0.4253, -0.4253, -0.4253,\n",
       "          -0.4253, -0.4253, -0.4253, -0.4253, -0.4253, -0.4253, -0.4253],\n",
       "         [-0.4253, -0.4253, -0.4253, -0.4253, -0.4253, -0.4253, -0.4253,\n",
       "          -0.4253, -0.4253, -0.4253, -0.4253, -0.4253, -0.4253, -0.4253,\n",
       "          -0.4253, -0.4253, -0.4253, -0.4253, -0.4253, -0.4253, -0.4253,\n",
       "          -0.4253, -0.4253, -0.4253, -0.4253, -0.4253, -0.4253, -0.4253],\n",
       "         [-0.4253, -0.4253, -0.4253, -0.4253, -0.4253, -0.4253, -0.4253,\n",
       "          -0.4253, -0.4253, -0.4253, -0.4253, -0.4253, -0.4253, -0.4253,\n",
       "          -0.4253, -0.4253, -0.4253, -0.4253, -0.4253, -0.4253, -0.4253,\n",
       "          -0.4253, -0.4253, -0.4253, -0.4253, -0.4253, -0.4253, -0.4253],\n",
       "         [-0.4253, -0.4253, -0.4253, -0.4253,  1.1026,  1.6755,  1.3699,\n",
       "           1.3699,  1.3699,  2.0066,  1.3699,  1.3699,  1.6882,  2.7960,\n",
       "           1.5227,  1.3699,  0.4150, -0.3362, -0.4253, -0.4253, -0.4253,\n",
       "          -0.4253, -0.4253, -0.4253, -0.4253, -0.4253, -0.4253, -0.4253],\n",
       "         [-0.4253, -0.4253, -0.4253, -0.4253,  0.6187,  2.6304,  2.7832,\n",
       "           2.7960,  2.7832,  2.7832,  2.7832,  2.7960,  2.7832,  2.7832,\n",
       "           2.7832,  2.7960,  2.7832,  1.9556,  1.7264,  0.9498,  0.1349,\n",
       "          -0.4253, -0.4253, -0.4253, -0.4253, -0.4253, -0.4253, -0.4253],\n",
       "         [-0.4253, -0.4253, -0.4253, -0.4253, -0.4253,  0.6060,  2.6686,\n",
       "           2.7960,  2.5413,  1.7137,  1.7137,  1.7137,  0.7588,  0.7715,\n",
       "           1.7137,  1.7137,  2.4267,  2.7832,  2.7832,  2.7960,  2.6304,\n",
       "           1.2426, -0.4253, -0.4253, -0.4253, -0.4253, -0.4253, -0.4253],\n",
       "         [-0.4253, -0.4253, -0.4253, -0.4253, -0.4253, -0.4253, -0.1070,\n",
       "          -0.0688, -0.1452, -0.4253, -0.4253, -0.4253, -0.4253, -0.4253,\n",
       "          -0.4253, -0.4253, -0.1834, -0.0688,  2.4777,  2.7960,  2.7832,\n",
       "           0.4405, -0.4253, -0.4253, -0.4253, -0.4253, -0.4253, -0.4253],\n",
       "         [-0.4253, -0.4253, -0.4253, -0.4253, -0.4253, -0.4253, -0.4253,\n",
       "          -0.4253, -0.4253, -0.4253, -0.4253, -0.4253, -0.4253, -0.4253,\n",
       "          -0.4253, -0.4253, -0.4253,  0.6697,  2.7960,  2.8214,  2.0830,\n",
       "          -0.4253, -0.4253, -0.4253, -0.4253, -0.4253, -0.4253, -0.4253],\n",
       "         [-0.4253, -0.4253, -0.4253, -0.4253, -0.4253, -0.4253, -0.4253,\n",
       "          -0.4253, -0.4253, -0.4253, -0.4253, -0.4253, -0.4253, -0.4253,\n",
       "          -0.4253, -0.4253, -0.4253,  0.4150,  2.7068,  2.7960,  1.1153,\n",
       "          -0.4253, -0.4253, -0.4253, -0.4253, -0.4253, -0.4253, -0.4253],\n",
       "         [-0.4253, -0.4253, -0.4253, -0.4253, -0.4253, -0.4253, -0.4253,\n",
       "          -0.4253, -0.4253, -0.4253, -0.4253, -0.4253, -0.4253, -0.4253,\n",
       "          -0.4253, -0.4253, -0.4253,  0.8988,  2.7068,  2.0448, -0.1834,\n",
       "          -0.4253, -0.4253, -0.4253, -0.4253, -0.4253, -0.4253, -0.4253],\n",
       "         [-0.4253, -0.4253, -0.4253, -0.4253, -0.4253, -0.4253, -0.4253,\n",
       "          -0.4253, -0.4253, -0.4253, -0.4253, -0.4253, -0.4253, -0.4253,\n",
       "          -0.4253, -0.4253, -0.0943,  2.4013,  2.7832,  1.0134, -0.4253,\n",
       "          -0.4253, -0.4253, -0.4253, -0.4253, -0.4253, -0.4253, -0.4253],\n",
       "         [-0.4253, -0.4253, -0.4253, -0.4253, -0.4253, -0.4253, -0.4253,\n",
       "          -0.4253, -0.4253, -0.4253, -0.4253, -0.4253, -0.4253, -0.4253,\n",
       "          -0.4253, -0.4253,  0.4659,  2.7960,  2.7960,  0.2240, -0.4253,\n",
       "          -0.4253, -0.4253, -0.4253, -0.4253, -0.4253, -0.4253, -0.4253],\n",
       "         [-0.4253, -0.4253, -0.4253, -0.4253, -0.4253, -0.4253, -0.4253,\n",
       "          -0.4253, -0.4253, -0.4253, -0.4253, -0.4253, -0.4253, -0.4253,\n",
       "          -0.4253, -0.4253,  1.7264,  2.7832,  2.4649, -0.4253, -0.4253,\n",
       "          -0.4253, -0.4253, -0.4253, -0.4253, -0.4253, -0.4253, -0.4253],\n",
       "         [-0.4253, -0.4253, -0.4253, -0.4253, -0.4253, -0.4253, -0.4253,\n",
       "          -0.4253, -0.4253, -0.4253, -0.4253, -0.4253, -0.4253, -0.4253,\n",
       "          -0.4253, -0.1325,  2.5540,  2.7832,  0.2368, -0.4253, -0.4253,\n",
       "          -0.4253, -0.4253, -0.4253, -0.4253, -0.4253, -0.4253, -0.4253],\n",
       "         [-0.4253, -0.4253, -0.4253, -0.4253, -0.4253, -0.4253, -0.4253,\n",
       "          -0.4253, -0.4253, -0.4253, -0.4253, -0.4253, -0.4253, -0.4253,\n",
       "          -0.4253,  1.2044,  2.7832,  2.7832, -0.0688, -0.4253, -0.4253,\n",
       "          -0.4253, -0.4253, -0.4253, -0.4253, -0.4253, -0.4253, -0.4253],\n",
       "         [-0.4253, -0.4253, -0.4253, -0.4253, -0.4253, -0.4253, -0.4253,\n",
       "          -0.4253, -0.4253, -0.4253, -0.4253, -0.4253, -0.4253, -0.4253,\n",
       "          -0.2598,  2.1721,  2.7960,  0.9243, -0.4253, -0.4253, -0.4253,\n",
       "          -0.4253, -0.4253, -0.4253, -0.4253, -0.4253, -0.4253, -0.4253],\n",
       "         [-0.4253, -0.4253, -0.4253, -0.4253, -0.4253, -0.4253, -0.4253,\n",
       "          -0.4253, -0.4253, -0.4253, -0.4253, -0.4253, -0.4253, -0.4253,\n",
       "           1.3317,  2.7960,  2.6304,  0.1222, -0.4253, -0.4253, -0.4253,\n",
       "          -0.4253, -0.4253, -0.4253, -0.4253, -0.4253, -0.4253, -0.4253],\n",
       "         [-0.4253, -0.4253, -0.4253, -0.4253, -0.4253, -0.4253, -0.4253,\n",
       "          -0.4253, -0.4253, -0.4253, -0.4253, -0.4253, -0.4253, -0.0561,\n",
       "           2.5540,  2.7960,  2.0702, -0.4253, -0.4253, -0.4253, -0.4253,\n",
       "          -0.4253, -0.4253, -0.4253, -0.4253, -0.4253, -0.4253, -0.4253],\n",
       "         [-0.4253, -0.4253, -0.4253, -0.4253, -0.4253, -0.4253, -0.4253,\n",
       "          -0.4253, -0.4253, -0.4253, -0.4253, -0.4253, -0.4253,  1.2808,\n",
       "           2.7832,  2.7960,  2.0702, -0.4253, -0.4253, -0.4253, -0.4253,\n",
       "          -0.4253, -0.4253, -0.4253, -0.4253, -0.4253, -0.4253, -0.4253],\n",
       "         [-0.4253, -0.4253, -0.4253, -0.4253, -0.4253, -0.4253, -0.4253,\n",
       "          -0.4253, -0.4253, -0.4253, -0.4253, -0.4253,  0.3004,  2.7960,\n",
       "           2.7960,  2.7705,  0.5296, -0.4253, -0.4253, -0.4253, -0.4253,\n",
       "          -0.4253, -0.4253, -0.4253, -0.4253, -0.4253, -0.4253, -0.4253],\n",
       "         [-0.4253, -0.4253, -0.4253, -0.4253, -0.4253, -0.4253, -0.4253,\n",
       "          -0.4253, -0.4253, -0.4253, -0.4253, -0.4253,  0.6187,  2.7832,\n",
       "           2.7832,  2.1211, -0.4253, -0.4253, -0.4253, -0.4253, -0.4253,\n",
       "          -0.4253, -0.4253, -0.4253, -0.4253, -0.4253, -0.4253, -0.4253],\n",
       "         [-0.4253, -0.4253, -0.4253, -0.4253, -0.4253, -0.4253, -0.4253,\n",
       "          -0.4253, -0.4253, -0.4253, -0.4253, -0.4253,  0.3768,  2.0702,\n",
       "           2.7832,  2.2485,  0.4150, -0.4253, -0.4253, -0.4253, -0.4253,\n",
       "          -0.4253, -0.4253, -0.4253, -0.4253, -0.4253, -0.4253, -0.4253],\n",
       "         [-0.4253, -0.4253, -0.4253, -0.4253, -0.4253, -0.4253, -0.4253,\n",
       "          -0.4253, -0.4253, -0.4253, -0.4253, -0.4253, -0.4253,  0.1731,\n",
       "           2.6304,  2.6432,  0.9625, -0.4253, -0.4253, -0.4253, -0.4253,\n",
       "          -0.4253, -0.4253, -0.4253, -0.4253, -0.4253, -0.4253, -0.4253],\n",
       "         [-0.4253, -0.4253, -0.4253, -0.4253, -0.4253, -0.4253, -0.4253,\n",
       "          -0.4253, -0.4253, -0.4253, -0.4253, -0.4253, -0.4253, -0.4253,\n",
       "          -0.4253, -0.4253, -0.4253, -0.4253, -0.4253, -0.4253, -0.4253,\n",
       "          -0.4253, -0.4253, -0.4253, -0.4253, -0.4253, -0.4253, -0.4253]]])"
      ]
     },
     "execution_count": 8,
     "metadata": {},
     "output_type": "execute_result"
    }
   ],
   "source": [
    "import matplotlib.pyplot as plt\n",
    "import numpy as np\n",
    "%matplotlib inline\n",
    "inputs, labels = next(iter(train_loader))\n",
    "print(inputs.shape, labels.shape)\n",
    "#32 samples per batch, each of 28*28 pixels, with 1 color channel\n",
    "inputs[0]"
   ]
  },
  {
   "cell_type": "code",
   "execution_count": 11,
   "metadata": {},
   "outputs": [
    {
     "data": {
      "image/png": "[encoded data removed]",
      "text/plain": [
       "<Figure size 432x288 with 1 Axes>"
      ]
     },
     "metadata": {
      "needs_background": "light"
     },
     "output_type": "display_data"
    }
   ],
   "source": [
    "def imshow(img):\n",
    "    img = img.numpy().transpose((1,2,0))\n",
    "    img = img*0.308+0.131\n",
    "    img = np.clip(img,0,1)\n",
    "    plt.imshow(img)\n",
    "out = torchvision.utils.make_grid(inputs)\n",
    "imshow(out)"
   ]
  },
  {
   "cell_type": "code",
   "execution_count": null,
   "metadata": {},
   "outputs": [],
   "source": []
  },
  {
   "cell_type": "markdown",
   "metadata": {},
   "source": [
    "# Model"
   ]
  },
  {
   "cell_type": "code",
   "execution_count": 41,
   "metadata": {},
   "outputs": [
    {
     "name": "stdout",
     "output_type": "stream",
     "text": [
      "Linear_classifier(\n",
      "  (network): Sequential(\n",
      "    (0): Linear(in_features=784, out_features=512, bias=True)\n",
      "    (1): ReLU()\n",
      "    (2): Linear(in_features=512, out_features=128, bias=True)\n",
      "    (3): ReLU()\n",
      "    (4): Linear(in_features=128, out_features=10, bias=True)\n",
      "    (5): ReLU()\n",
      "    (6): Softmax(dim=None)\n",
      "  )\n",
      ")\n"
     ]
    }
   ],
   "source": [
    "class Linear_classifier(nn.Module):\n",
    "    def __init__(self,layers=[512,128],input_size = 784,out_channels=10):\n",
    "        super().__init__()\n",
    "        layers = [input_size]+layers\n",
    "        layers.append(out_channels)\n",
    "        L = []\n",
    "        for i in range(1,len(layers)):\n",
    "            L.append(nn.Linear(layers[i-1],layers[i]))\n",
    "            L.append(nn.ReLU())\n",
    "        L.append(nn.Softmax())\n",
    "        self.network = nn.Sequential(*L)\n",
    "    \n",
    "    def forward(self,x):\n",
    "        x = x.view(-1,28*28)\n",
    "        x = self.network(x)\n",
    "        return x\n",
    "\n",
    "\n",
    "print(model)    "
   ]
  },
  {
   "cell_type": "markdown",
   "metadata": {},
   "source": [
    "# Training"
   ]
  },
  {
   "cell_type": "code",
   "execution_count": 44,
   "metadata": {},
   "outputs": [],
   "source": [
    "def train(lr=1e-3,epochs=20,mode='SGD'):\n",
    "    device = torch.device('cuda' if torch.cuda.is_available() else 'cpu')\n",
    "    model = Linear_classifier().to(device)\n",
    "    print('lr: {}, epochs: {}'.format(lr, epochs))\n",
    "    if mode=='SGD':\n",
    "        optimizer = torch.optim.SGD(model.parameters(),lr = lr)\n",
    "    else:\n",
    "        optimizer = torch.optim.Adam(model.parameters(),lr = lr)\n",
    "    criteria = nn.CrossEntropyLoss()\n",
    "    import time\n",
    "\n",
    "    for i in range(epochs):\n",
    "        start_time = time.time()\n",
    "        running_loss = 0.0\n",
    "        for inputs, labels in train_loader:\n",
    "            optimizer.zero_grad()\n",
    "            outputs = model(inputs)\n",
    "            loss = criteria(outputs,labels)\n",
    "            loss.backward()\n",
    "            optimizer.step()\n",
    "            running_loss = running_loss+loss.item()\n",
    "        running_loss = running_loss/len(train_loader)\n",
    "        cur_time = time.time()\n",
    "        print('Epoch: {}, loss: {}, time: {}'.format(i, running_loss,cur_time-start_time))\n",
    "        start_time = cur_time\n",
    "        \n",
    "    #test\n",
    "    correct = 0\n",
    "    total = 0\n",
    "    with torch.no_grad():\n",
    "        for inputs, labels in train_loader:\n",
    "            outputs = model(inputs)\n",
    "            loss = criteria(outputs,labels)\n",
    "            _, predicted = torch.max(outputs.data,1)\n",
    "            total+=labels.size(0)\n",
    "            correct+=(predicted==labels).sum().item()\n",
    "    accuracy = 100.0*correct/total\n",
    "\n",
    "    print(\"accuracy is {} percentage\".format(accuracy))\n",
    "    return model"
   ]
  },
  {
   "cell_type": "markdown",
   "metadata": {},
   "source": [
    "# Test"
   ]
  },
  {
   "cell_type": "code",
   "execution_count": 43,
   "metadata": {
    "scrolled": true
   },
   "outputs": [
    {
     "name": "stdout",
     "output_type": "stream",
     "text": [
      "lr: 0.03, epochs: 20\n",
      "Epoch: 0, loss: 1.9338090206146241, time: 23.302979707717896\n",
      "Epoch: 1, loss: 1.8074722467422486, time: 23.391009092330933\n",
      "Epoch: 2, loss: 1.7296816513697306, time: 23.330297708511353\n",
      "Epoch: 3, loss: 1.7002424983342488, time: 23.20491600036621\n",
      "Epoch: 4, loss: 1.692535619799296, time: 23.27165699005127\n",
      "Epoch: 5, loss: 1.6848386409759522, time: 23.24289894104004\n",
      "Epoch: 6, loss: 1.6366548254648845, time: 23.447505950927734\n",
      "Epoch: 7, loss: 1.5886519725163777, time: 23.480880737304688\n",
      "Epoch: 8, loss: 1.5805470399856567, time: 23.762856006622314\n",
      "Epoch: 9, loss: 1.575545945294698, time: 23.338873147964478\n",
      "Epoch: 10, loss: 1.5719738763809203, time: 23.19789171218872\n",
      "Epoch: 11, loss: 1.569029735183716, time: 23.197160243988037\n",
      "Epoch: 12, loss: 1.5665908945083618, time: 23.208638191223145\n",
      "Epoch: 13, loss: 1.5647792107899983, time: 23.28571105003357\n",
      "Epoch: 14, loss: 1.5630528069178264, time: 23.593442916870117\n",
      "Epoch: 15, loss: 1.5617373083114625, time: 23.54424238204956\n",
      "Epoch: 16, loss: 1.5605170705159506, time: 23.10221576690674\n",
      "Epoch: 17, loss: 1.5593989712397258, time: 24.09197211265564\n",
      "Epoch: 18, loss: 1.558459682782491, time: 26.40238618850708\n",
      "Epoch: 19, loss: 1.5575892292658489, time: 26.40063786506653\n",
      "accuracy is 89.27 percentage\n"
     ]
    }
   ],
   "source": [
    "model1 = train(lr=0.03,epochs=20)"
   ]
  },
  {
   "cell_type": "code",
   "execution_count": 45,
   "metadata": {},
   "outputs": [
    {
     "name": "stdout",
     "output_type": "stream",
     "text": [
      "lr: 0.05, epochs: 20\n",
      "Epoch: 0, loss: 1.5578877912521363, time: 24.430603981018066\n"
     ]
    },
    {
     "ename": "KeyboardInterrupt",
     "evalue": "",
     "output_type": "error",
     "traceback": [
      "\u001b[0;31m---------------------------------------------------------------------------\u001b[0m",
      "\u001b[0;31mKeyboardInterrupt\u001b[0m                         Traceback (most recent call last)",
      "\u001b[0;32m<ipython-input-45-6798d1ac7ecd>\u001b[0m in \u001b[0;36m<module>\u001b[0;34m\u001b[0m\n\u001b[0;32m----> 1\u001b[0;31m \u001b[0mmodel2\u001b[0m \u001b[0;34m=\u001b[0m \u001b[0mtrain\u001b[0m\u001b[0;34m(\u001b[0m\u001b[0mlr\u001b[0m\u001b[0;34m=\u001b[0m\u001b[0;36m0.05\u001b[0m\u001b[0;34m,\u001b[0m\u001b[0mepochs\u001b[0m\u001b[0;34m=\u001b[0m\u001b[0;36m20\u001b[0m\u001b[0;34m)\u001b[0m\u001b[0;34m\u001b[0m\u001b[0;34m\u001b[0m\u001b[0m\n\u001b[0m",
      "\u001b[0;32m<ipython-input-44-e52f1f555fec>\u001b[0m in \u001b[0;36mtrain\u001b[0;34m(lr, epochs, mode)\u001b[0m\n\u001b[1;32m     11\u001b[0m         \u001b[0mstart_time\u001b[0m \u001b[0;34m=\u001b[0m \u001b[0mtime\u001b[0m\u001b[0;34m.\u001b[0m\u001b[0mtime\u001b[0m\u001b[0;34m(\u001b[0m\u001b[0;34m)\u001b[0m\u001b[0;34m\u001b[0m\u001b[0;34m\u001b[0m\u001b[0m\n\u001b[1;32m     12\u001b[0m         \u001b[0mrunning_loss\u001b[0m \u001b[0;34m=\u001b[0m \u001b[0;36m0.0\u001b[0m\u001b[0;34m\u001b[0m\u001b[0;34m\u001b[0m\u001b[0m\n\u001b[0;32m---> 13\u001b[0;31m         \u001b[0;32mfor\u001b[0m \u001b[0minputs\u001b[0m\u001b[0;34m,\u001b[0m \u001b[0mlabels\u001b[0m \u001b[0;32min\u001b[0m \u001b[0mtrain_loader\u001b[0m\u001b[0;34m:\u001b[0m\u001b[0;34m\u001b[0m\u001b[0;34m\u001b[0m\u001b[0m\n\u001b[0m\u001b[1;32m     14\u001b[0m             \u001b[0moptimizer\u001b[0m\u001b[0;34m.\u001b[0m\u001b[0mzero_grad\u001b[0m\u001b[0;34m(\u001b[0m\u001b[0;34m)\u001b[0m\u001b[0;34m\u001b[0m\u001b[0;34m\u001b[0m\u001b[0m\n\u001b[1;32m     15\u001b[0m             \u001b[0moutputs\u001b[0m \u001b[0;34m=\u001b[0m \u001b[0mmodel\u001b[0m\u001b[0;34m(\u001b[0m\u001b[0minputs\u001b[0m\u001b[0;34m)\u001b[0m\u001b[0;34m\u001b[0m\u001b[0;34m\u001b[0m\u001b[0m\n",
      "\u001b[0;32m~/anaconda3/lib/python3.7/site-packages/torch/utils/data/dataloader.py\u001b[0m in \u001b[0;36m__next__\u001b[0;34m(self)\u001b[0m\n\u001b[1;32m    343\u001b[0m \u001b[0;34m\u001b[0m\u001b[0m\n\u001b[1;32m    344\u001b[0m     \u001b[0;32mdef\u001b[0m \u001b[0m__next__\u001b[0m\u001b[0;34m(\u001b[0m\u001b[0mself\u001b[0m\u001b[0;34m)\u001b[0m\u001b[0;34m:\u001b[0m\u001b[0;34m\u001b[0m\u001b[0;34m\u001b[0m\u001b[0m\n\u001b[0;32m--> 345\u001b[0;31m         \u001b[0mdata\u001b[0m \u001b[0;34m=\u001b[0m \u001b[0mself\u001b[0m\u001b[0;34m.\u001b[0m\u001b[0m_next_data\u001b[0m\u001b[0;34m(\u001b[0m\u001b[0;34m)\u001b[0m\u001b[0;34m\u001b[0m\u001b[0;34m\u001b[0m\u001b[0m\n\u001b[0m\u001b[1;32m    346\u001b[0m         \u001b[0mself\u001b[0m\u001b[0;34m.\u001b[0m\u001b[0m_num_yielded\u001b[0m \u001b[0;34m+=\u001b[0m \u001b[0;36m1\u001b[0m\u001b[0;34m\u001b[0m\u001b[0;34m\u001b[0m\u001b[0m\n\u001b[1;32m    347\u001b[0m         \u001b[0;32mif\u001b[0m \u001b[0mself\u001b[0m\u001b[0;34m.\u001b[0m\u001b[0m_dataset_kind\u001b[0m \u001b[0;34m==\u001b[0m \u001b[0m_DatasetKind\u001b[0m\u001b[0;34m.\u001b[0m\u001b[0mIterable\u001b[0m \u001b[0;32mand\u001b[0m\u001b[0;31m \u001b[0m\u001b[0;31m\\\u001b[0m\u001b[0;34m\u001b[0m\u001b[0;34m\u001b[0m\u001b[0m\n",
      "\u001b[0;32m~/anaconda3/lib/python3.7/site-packages/torch/utils/data/dataloader.py\u001b[0m in \u001b[0;36m_next_data\u001b[0;34m(self)\u001b[0m\n\u001b[1;32m    383\u001b[0m     \u001b[0;32mdef\u001b[0m \u001b[0m_next_data\u001b[0m\u001b[0;34m(\u001b[0m\u001b[0mself\u001b[0m\u001b[0;34m)\u001b[0m\u001b[0;34m:\u001b[0m\u001b[0;34m\u001b[0m\u001b[0;34m\u001b[0m\u001b[0m\n\u001b[1;32m    384\u001b[0m         \u001b[0mindex\u001b[0m \u001b[0;34m=\u001b[0m \u001b[0mself\u001b[0m\u001b[0;34m.\u001b[0m\u001b[0m_next_index\u001b[0m\u001b[0;34m(\u001b[0m\u001b[0;34m)\u001b[0m  \u001b[0;31m# may raise StopIteration\u001b[0m\u001b[0;34m\u001b[0m\u001b[0;34m\u001b[0m\u001b[0m\n\u001b[0;32m--> 385\u001b[0;31m         \u001b[0mdata\u001b[0m \u001b[0;34m=\u001b[0m \u001b[0mself\u001b[0m\u001b[0;34m.\u001b[0m\u001b[0m_dataset_fetcher\u001b[0m\u001b[0;34m.\u001b[0m\u001b[0mfetch\u001b[0m\u001b[0;34m(\u001b[0m\u001b[0mindex\u001b[0m\u001b[0;34m)\u001b[0m  \u001b[0;31m# may raise StopIteration\u001b[0m\u001b[0;34m\u001b[0m\u001b[0;34m\u001b[0m\u001b[0m\n\u001b[0m\u001b[1;32m    386\u001b[0m         \u001b[0;32mif\u001b[0m \u001b[0mself\u001b[0m\u001b[0;34m.\u001b[0m\u001b[0m_pin_memory\u001b[0m\u001b[0;34m:\u001b[0m\u001b[0;34m\u001b[0m\u001b[0;34m\u001b[0m\u001b[0m\n\u001b[1;32m    387\u001b[0m             \u001b[0mdata\u001b[0m \u001b[0;34m=\u001b[0m \u001b[0m_utils\u001b[0m\u001b[0;34m.\u001b[0m\u001b[0mpin_memory\u001b[0m\u001b[0;34m.\u001b[0m\u001b[0mpin_memory\u001b[0m\u001b[0;34m(\u001b[0m\u001b[0mdata\u001b[0m\u001b[0;34m)\u001b[0m\u001b[0;34m\u001b[0m\u001b[0;34m\u001b[0m\u001b[0m\n",
      "\u001b[0;32m~/anaconda3/lib/python3.7/site-packages/torch/utils/data/_utils/fetch.py\u001b[0m in \u001b[0;36mfetch\u001b[0;34m(self, possibly_batched_index)\u001b[0m\n\u001b[1;32m     42\u001b[0m     \u001b[0;32mdef\u001b[0m \u001b[0mfetch\u001b[0m\u001b[0;34m(\u001b[0m\u001b[0mself\u001b[0m\u001b[0;34m,\u001b[0m \u001b[0mpossibly_batched_index\u001b[0m\u001b[0;34m)\u001b[0m\u001b[0;34m:\u001b[0m\u001b[0;34m\u001b[0m\u001b[0;34m\u001b[0m\u001b[0m\n\u001b[1;32m     43\u001b[0m         \u001b[0;32mif\u001b[0m \u001b[0mself\u001b[0m\u001b[0;34m.\u001b[0m\u001b[0mauto_collation\u001b[0m\u001b[0;34m:\u001b[0m\u001b[0;34m\u001b[0m\u001b[0;34m\u001b[0m\u001b[0m\n\u001b[0;32m---> 44\u001b[0;31m             \u001b[0mdata\u001b[0m \u001b[0;34m=\u001b[0m \u001b[0;34m[\u001b[0m\u001b[0mself\u001b[0m\u001b[0;34m.\u001b[0m\u001b[0mdataset\u001b[0m\u001b[0;34m[\u001b[0m\u001b[0midx\u001b[0m\u001b[0;34m]\u001b[0m \u001b[0;32mfor\u001b[0m \u001b[0midx\u001b[0m \u001b[0;32min\u001b[0m \u001b[0mpossibly_batched_index\u001b[0m\u001b[0;34m]\u001b[0m\u001b[0;34m\u001b[0m\u001b[0;34m\u001b[0m\u001b[0m\n\u001b[0m\u001b[1;32m     45\u001b[0m         \u001b[0;32melse\u001b[0m\u001b[0;34m:\u001b[0m\u001b[0;34m\u001b[0m\u001b[0;34m\u001b[0m\u001b[0m\n\u001b[1;32m     46\u001b[0m             \u001b[0mdata\u001b[0m \u001b[0;34m=\u001b[0m \u001b[0mself\u001b[0m\u001b[0;34m.\u001b[0m\u001b[0mdataset\u001b[0m\u001b[0;34m[\u001b[0m\u001b[0mpossibly_batched_index\u001b[0m\u001b[0;34m]\u001b[0m\u001b[0;34m\u001b[0m\u001b[0;34m\u001b[0m\u001b[0m\n",
      "\u001b[0;32m~/anaconda3/lib/python3.7/site-packages/torch/utils/data/_utils/fetch.py\u001b[0m in \u001b[0;36m<listcomp>\u001b[0;34m(.0)\u001b[0m\n\u001b[1;32m     42\u001b[0m     \u001b[0;32mdef\u001b[0m \u001b[0mfetch\u001b[0m\u001b[0;34m(\u001b[0m\u001b[0mself\u001b[0m\u001b[0;34m,\u001b[0m \u001b[0mpossibly_batched_index\u001b[0m\u001b[0;34m)\u001b[0m\u001b[0;34m:\u001b[0m\u001b[0;34m\u001b[0m\u001b[0;34m\u001b[0m\u001b[0m\n\u001b[1;32m     43\u001b[0m         \u001b[0;32mif\u001b[0m \u001b[0mself\u001b[0m\u001b[0;34m.\u001b[0m\u001b[0mauto_collation\u001b[0m\u001b[0;34m:\u001b[0m\u001b[0;34m\u001b[0m\u001b[0;34m\u001b[0m\u001b[0m\n\u001b[0;32m---> 44\u001b[0;31m             \u001b[0mdata\u001b[0m \u001b[0;34m=\u001b[0m \u001b[0;34m[\u001b[0m\u001b[0mself\u001b[0m\u001b[0;34m.\u001b[0m\u001b[0mdataset\u001b[0m\u001b[0;34m[\u001b[0m\u001b[0midx\u001b[0m\u001b[0;34m]\u001b[0m \u001b[0;32mfor\u001b[0m \u001b[0midx\u001b[0m \u001b[0;32min\u001b[0m \u001b[0mpossibly_batched_index\u001b[0m\u001b[0;34m]\u001b[0m\u001b[0;34m\u001b[0m\u001b[0;34m\u001b[0m\u001b[0m\n\u001b[0m\u001b[1;32m     45\u001b[0m         \u001b[0;32melse\u001b[0m\u001b[0;34m:\u001b[0m\u001b[0;34m\u001b[0m\u001b[0;34m\u001b[0m\u001b[0m\n\u001b[1;32m     46\u001b[0m             \u001b[0mdata\u001b[0m \u001b[0;34m=\u001b[0m \u001b[0mself\u001b[0m\u001b[0;34m.\u001b[0m\u001b[0mdataset\u001b[0m\u001b[0;34m[\u001b[0m\u001b[0mpossibly_batched_index\u001b[0m\u001b[0;34m]\u001b[0m\u001b[0;34m\u001b[0m\u001b[0;34m\u001b[0m\u001b[0m\n",
      "\u001b[0;32m~/anaconda3/lib/python3.7/site-packages/torchvision/datasets/mnist.py\u001b[0m in \u001b[0;36m__getitem__\u001b[0;34m(self, index)\u001b[0m\n\u001b[1;32m     95\u001b[0m \u001b[0;34m\u001b[0m\u001b[0m\n\u001b[1;32m     96\u001b[0m         \u001b[0;32mif\u001b[0m \u001b[0mself\u001b[0m\u001b[0;34m.\u001b[0m\u001b[0mtransform\u001b[0m \u001b[0;32mis\u001b[0m \u001b[0;32mnot\u001b[0m \u001b[0;32mNone\u001b[0m\u001b[0;34m:\u001b[0m\u001b[0;34m\u001b[0m\u001b[0;34m\u001b[0m\u001b[0m\n\u001b[0;32m---> 97\u001b[0;31m             \u001b[0mimg\u001b[0m \u001b[0;34m=\u001b[0m \u001b[0mself\u001b[0m\u001b[0;34m.\u001b[0m\u001b[0mtransform\u001b[0m\u001b[0;34m(\u001b[0m\u001b[0mimg\u001b[0m\u001b[0;34m)\u001b[0m\u001b[0;34m\u001b[0m\u001b[0;34m\u001b[0m\u001b[0m\n\u001b[0m\u001b[1;32m     98\u001b[0m \u001b[0;34m\u001b[0m\u001b[0m\n\u001b[1;32m     99\u001b[0m         \u001b[0;32mif\u001b[0m \u001b[0mself\u001b[0m\u001b[0;34m.\u001b[0m\u001b[0mtarget_transform\u001b[0m \u001b[0;32mis\u001b[0m \u001b[0;32mnot\u001b[0m \u001b[0;32mNone\u001b[0m\u001b[0;34m:\u001b[0m\u001b[0;34m\u001b[0m\u001b[0;34m\u001b[0m\u001b[0m\n",
      "\u001b[0;32m~/anaconda3/lib/python3.7/site-packages/torchvision/transforms/transforms.py\u001b[0m in \u001b[0;36m__call__\u001b[0;34m(self, img)\u001b[0m\n\u001b[1;32m     59\u001b[0m     \u001b[0;32mdef\u001b[0m \u001b[0m__call__\u001b[0m\u001b[0;34m(\u001b[0m\u001b[0mself\u001b[0m\u001b[0;34m,\u001b[0m \u001b[0mimg\u001b[0m\u001b[0;34m)\u001b[0m\u001b[0;34m:\u001b[0m\u001b[0;34m\u001b[0m\u001b[0;34m\u001b[0m\u001b[0m\n\u001b[1;32m     60\u001b[0m         \u001b[0;32mfor\u001b[0m \u001b[0mt\u001b[0m \u001b[0;32min\u001b[0m \u001b[0mself\u001b[0m\u001b[0;34m.\u001b[0m\u001b[0mtransforms\u001b[0m\u001b[0;34m:\u001b[0m\u001b[0;34m\u001b[0m\u001b[0;34m\u001b[0m\u001b[0m\n\u001b[0;32m---> 61\u001b[0;31m             \u001b[0mimg\u001b[0m \u001b[0;34m=\u001b[0m \u001b[0mt\u001b[0m\u001b[0;34m(\u001b[0m\u001b[0mimg\u001b[0m\u001b[0;34m)\u001b[0m\u001b[0;34m\u001b[0m\u001b[0;34m\u001b[0m\u001b[0m\n\u001b[0m\u001b[1;32m     62\u001b[0m         \u001b[0;32mreturn\u001b[0m \u001b[0mimg\u001b[0m\u001b[0;34m\u001b[0m\u001b[0;34m\u001b[0m\u001b[0m\n\u001b[1;32m     63\u001b[0m \u001b[0;34m\u001b[0m\u001b[0m\n",
      "\u001b[0;32m~/anaconda3/lib/python3.7/site-packages/torchvision/transforms/transforms.py\u001b[0m in \u001b[0;36m__call__\u001b[0;34m(self, tensor)\u001b[0m\n\u001b[1;32m    164\u001b[0m             \u001b[0mTensor\u001b[0m\u001b[0;34m:\u001b[0m \u001b[0mNormalized\u001b[0m \u001b[0mTensor\u001b[0m \u001b[0mimage\u001b[0m\u001b[0;34m.\u001b[0m\u001b[0;34m\u001b[0m\u001b[0;34m\u001b[0m\u001b[0m\n\u001b[1;32m    165\u001b[0m         \"\"\"\n\u001b[0;32m--> 166\u001b[0;31m         \u001b[0;32mreturn\u001b[0m \u001b[0mF\u001b[0m\u001b[0;34m.\u001b[0m\u001b[0mnormalize\u001b[0m\u001b[0;34m(\u001b[0m\u001b[0mtensor\u001b[0m\u001b[0;34m,\u001b[0m \u001b[0mself\u001b[0m\u001b[0;34m.\u001b[0m\u001b[0mmean\u001b[0m\u001b[0;34m,\u001b[0m \u001b[0mself\u001b[0m\u001b[0;34m.\u001b[0m\u001b[0mstd\u001b[0m\u001b[0;34m,\u001b[0m \u001b[0mself\u001b[0m\u001b[0;34m.\u001b[0m\u001b[0minplace\u001b[0m\u001b[0;34m)\u001b[0m\u001b[0;34m\u001b[0m\u001b[0;34m\u001b[0m\u001b[0m\n\u001b[0m\u001b[1;32m    167\u001b[0m \u001b[0;34m\u001b[0m\u001b[0m\n\u001b[1;32m    168\u001b[0m     \u001b[0;32mdef\u001b[0m \u001b[0m__repr__\u001b[0m\u001b[0;34m(\u001b[0m\u001b[0mself\u001b[0m\u001b[0;34m)\u001b[0m\u001b[0;34m:\u001b[0m\u001b[0;34m\u001b[0m\u001b[0;34m\u001b[0m\u001b[0m\n",
      "\u001b[0;32m~/anaconda3/lib/python3.7/site-packages/torchvision/transforms/functional.py\u001b[0m in \u001b[0;36mnormalize\u001b[0;34m(tensor, mean, std, inplace)\u001b[0m\n\u001b[1;32m    195\u001b[0m \u001b[0;34m\u001b[0m\u001b[0m\n\u001b[1;32m    196\u001b[0m     \u001b[0;32mif\u001b[0m \u001b[0;32mnot\u001b[0m \u001b[0minplace\u001b[0m\u001b[0;34m:\u001b[0m\u001b[0;34m\u001b[0m\u001b[0;34m\u001b[0m\u001b[0m\n\u001b[0;32m--> 197\u001b[0;31m         \u001b[0mtensor\u001b[0m \u001b[0;34m=\u001b[0m \u001b[0mtensor\u001b[0m\u001b[0;34m.\u001b[0m\u001b[0mclone\u001b[0m\u001b[0;34m(\u001b[0m\u001b[0;34m)\u001b[0m\u001b[0;34m\u001b[0m\u001b[0;34m\u001b[0m\u001b[0m\n\u001b[0m\u001b[1;32m    198\u001b[0m \u001b[0;34m\u001b[0m\u001b[0m\n\u001b[1;32m    199\u001b[0m     \u001b[0mdtype\u001b[0m \u001b[0;34m=\u001b[0m \u001b[0mtensor\u001b[0m\u001b[0;34m.\u001b[0m\u001b[0mdtype\u001b[0m\u001b[0;34m\u001b[0m\u001b[0;34m\u001b[0m\u001b[0m\n",
      "\u001b[0;31mKeyboardInterrupt\u001b[0m: "
     ]
    }
   ],
   "source": [
    "model2 = train(lr=0.05,epochs=20)"
   ]
  },
  {
   "cell_type": "code",
   "execution_count": null,
   "metadata": {},
   "outputs": [],
   "source": [
    "model3 = train(lr=0.01,epochs=50)"
   ]
  },
  {
   "cell_type": "code",
   "execution_count": null,
   "metadata": {},
   "outputs": [],
   "source": [
    "model4 = train(lr=0.01,epochs=20,mode='Adam')"
   ]
  },
  {
   "cell_type": "code",
   "execution_count": null,
   "metadata": {},
   "outputs": [],
   "source": [
    "model4 = train(lr=0.001,epochs=20,mode='Adam')"
   ]
  },
  {
   "cell_type": "code",
   "execution_count": null,
   "metadata": {},
   "outputs": [],
   "source": []
  },
  {
   "cell_type": "code",
   "execution_count": null,
   "metadata": {},
   "outputs": [],
   "source": []
  }
 ],
 "metadata": {
  "kernelspec": {
   "display_name": "Python 3",
   "language": "python",
   "name": "python3"
  },
  "language_info": {
   "codemirror_mode": {
    "name": "ipython",
    "version": 3
   },
   "file_extension": ".py",
   "mimetype": "text/x-python",
   "name": "python",
   "nbconvert_exporter": "python",
   "pygments_lexer": "ipython3",
   "version": "3.7.6"
  }
 },
 "nbformat": 4,
 "nbformat_minor": 4
}
